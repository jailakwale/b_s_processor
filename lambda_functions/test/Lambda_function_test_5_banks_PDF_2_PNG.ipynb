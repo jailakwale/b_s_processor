{
 "cells": [
  {
   "cell_type": "markdown",
   "metadata": {},
   "source": [
    "# TEST"
   ]
  },
  {
   "cell_type": "markdown",
   "metadata": {},
   "source": [
    "[Lambda function (PDF 2 PNG)](\"https://github.com/assansanogo/b_s_processor/blob/main/lambda_functions/convert_from_pdf_to_png_5_banks.py\")"
   ]
  },
  {
   "cell_type": "markdown",
   "metadata": {},
   "source": [
    "This notebook runs the major function of the lambda function responsible of generating the png.\n",
    "Before testing the function was operating but was not extracting the right info\n",
    "corrected on *02/11/2021*"
   ]
  },
  {
   "cell_type": "code",
   "execution_count": 31,
   "metadata": {},
   "outputs": [],
   "source": [
    "rm -rf /tmp"
   ]
  },
  {
   "cell_type": "code",
   "execution_count": 43,
   "metadata": {},
   "outputs": [],
   "source": [
    "import PyPDF2\n",
    "import tqdm\n",
    "from pdf2image import convert_from_path, convert_from_bytes\n",
    "from zipfile import ZipFile\n",
    "import os\n",
    "import glob2\n",
    "import requests\n",
    "import json\n",
    "import boto3\n",
    "\n",
    "\n",
    "def download_url(url):\n",
    "    '''\n",
    "    utility funcction which downloads pdf to local environment\n",
    "    '''\n",
    "    # data is going to be read as stream\n",
    "    chunk_size=2000\n",
    "    r = requests.get(url, stream=True)\n",
    "    # the pdf filename is extracted from the presigned url\n",
    "    file_name = [el for el in url.split(\"/\") if \".pdf\" in el][0]\n",
    "    # open a file to dump the stream in\n",
    "    with open(f'/tmp/{file_name}', 'wb') as fd:\n",
    "        for chunk in r.iter_content(chunk_size):\n",
    "            fd.write(chunk)\n",
    "    return f'/tmp/{file_name}'\n",
    "\n",
    "def parse(my_pdf):\n",
    "    reader = PyPDF2.PdfFileReader(my_pdf)\n",
    "    n_pages = len(reader.pages)\n",
    "    new_dir = '/tmp'\n",
    "    os.makedirs(new_dir, exist_ok=True)\n",
    " \n",
    "    \n",
    "    for i in tqdm.tqdm(range(n_pages)):\n",
    "        writer = PyPDF2.PdfFileWriter()\n",
    "        my_page = reader.getPage(i)\n",
    "        writer.addPage(my_page)\n",
    "        output_filename = my_pdf.replace('.pdf', f'_{str(i)}.pdf')\n",
    "        _filename = output_filename.split(\"/\")[-1]\n",
    "\n",
    "        new_path = os.path.join(new_dir, _filename)\n",
    "        print(new_dir)\n",
    "        \n",
    "        with open(new_path, 'wb') as output:\n",
    "            writer.write(output)\n",
    "        png_path = new_path.replace(\"pdf\",\"png\")\n",
    "        print(png_path)\n",
    "        img_test = convert_from_path(new_path)[0].save(png_path)\n",
    "        \n",
    "           \n",
    "    all_png = glob2.glob(f\"{new_dir}/*.png\")\n",
    "    for png_path in all_png:\n",
    "        with ZipFile('my_bank_statement_png.zip','a') as zip:\n",
    "            # writing each file one by one for file in png paths:\n",
    "            zip.write(png_path)\n",
    "    print(os.path.getsize('my_bank_statement_png.zip'))\n",
    "    return 'my_bank_statement_png.zip'"
   ]
  },
  {
   "cell_type": "code",
   "execution_count": null,
   "metadata": {},
   "outputs": [],
   "source": []
  },
  {
   "cell_type": "code",
   "execution_count": 44,
   "metadata": {},
   "outputs": [],
   "source": [
    "# TEST with UBA_BANK"
   ]
  },
  {
   "cell_type": "markdown",
   "metadata": {},
   "source": [
    "The warning message is <u>just</u> a warning <br>(it should not happen with the lambda function as /tmp is flushed after each file)"
   ]
  },
  {
   "cell_type": "code",
   "execution_count": 45,
   "metadata": {
    "scrolled": true
   },
   "outputs": [
    {
     "name": "stderr",
     "output_type": "stream",
     "text": [
      "\r",
      "  0%|          | 0/16 [00:00<?, ?it/s]"
     ]
    },
    {
     "name": "stdout",
     "output_type": "stream",
     "text": [
      "/tmp\n",
      "/tmp/erario statement_0.png\n"
     ]
    },
    {
     "name": "stderr",
     "output_type": "stream",
     "text": [
      "\r",
      "  6%|▋         | 1/16 [00:00<00:07,  1.94it/s]"
     ]
    },
    {
     "name": "stdout",
     "output_type": "stream",
     "text": [
      "/tmp\n",
      "/tmp/erario statement_1.png\n"
     ]
    },
    {
     "name": "stderr",
     "output_type": "stream",
     "text": [
      "\r",
      " 12%|█▎        | 2/16 [00:00<00:07,  1.98it/s]"
     ]
    },
    {
     "name": "stdout",
     "output_type": "stream",
     "text": [
      "/tmp\n",
      "/tmp/erario statement_2.png\n"
     ]
    },
    {
     "name": "stderr",
     "output_type": "stream",
     "text": [
      "\r",
      " 19%|█▉        | 3/16 [00:01<00:06,  2.04it/s]"
     ]
    },
    {
     "name": "stdout",
     "output_type": "stream",
     "text": [
      "/tmp\n",
      "/tmp/erario statement_3.png\n"
     ]
    },
    {
     "name": "stderr",
     "output_type": "stream",
     "text": [
      "\r",
      " 25%|██▌       | 4/16 [00:01<00:05,  2.07it/s]"
     ]
    },
    {
     "name": "stdout",
     "output_type": "stream",
     "text": [
      "/tmp\n",
      "/tmp/erario statement_4.png\n"
     ]
    },
    {
     "name": "stderr",
     "output_type": "stream",
     "text": [
      "\r",
      " 31%|███▏      | 5/16 [00:02<00:05,  2.11it/s]"
     ]
    },
    {
     "name": "stdout",
     "output_type": "stream",
     "text": [
      "/tmp\n",
      "/tmp/erario statement_5.png\n"
     ]
    },
    {
     "name": "stderr",
     "output_type": "stream",
     "text": [
      "\r",
      " 38%|███▊      | 6/16 [00:02<00:04,  2.17it/s]"
     ]
    },
    {
     "name": "stdout",
     "output_type": "stream",
     "text": [
      "/tmp\n",
      "/tmp/erario statement_6.png\n"
     ]
    },
    {
     "name": "stderr",
     "output_type": "stream",
     "text": [
      "\r",
      " 44%|████▍     | 7/16 [00:03<00:04,  2.21it/s]"
     ]
    },
    {
     "name": "stdout",
     "output_type": "stream",
     "text": [
      "/tmp\n",
      "/tmp/erario statement_7.png\n"
     ]
    },
    {
     "name": "stderr",
     "output_type": "stream",
     "text": [
      "\r",
      " 50%|█████     | 8/16 [00:03<00:03,  2.21it/s]"
     ]
    },
    {
     "name": "stdout",
     "output_type": "stream",
     "text": [
      "/tmp\n",
      "/tmp/erario statement_8.png\n"
     ]
    },
    {
     "name": "stderr",
     "output_type": "stream",
     "text": [
      "\r",
      " 56%|█████▋    | 9/16 [00:04<00:03,  2.21it/s]"
     ]
    },
    {
     "name": "stdout",
     "output_type": "stream",
     "text": [
      "/tmp\n",
      "/tmp/erario statement_9.png\n"
     ]
    },
    {
     "name": "stderr",
     "output_type": "stream",
     "text": [
      "\r",
      " 62%|██████▎   | 10/16 [00:04<00:02,  2.20it/s]"
     ]
    },
    {
     "name": "stdout",
     "output_type": "stream",
     "text": [
      "/tmp\n",
      "/tmp/erario statement_10.png\n"
     ]
    },
    {
     "name": "stderr",
     "output_type": "stream",
     "text": [
      "\r",
      " 69%|██████▉   | 11/16 [00:05<00:02,  2.20it/s]"
     ]
    },
    {
     "name": "stdout",
     "output_type": "stream",
     "text": [
      "/tmp\n",
      "/tmp/erario statement_11.png\n"
     ]
    },
    {
     "name": "stderr",
     "output_type": "stream",
     "text": [
      "\r",
      " 75%|███████▌  | 12/16 [00:05<00:01,  2.22it/s]"
     ]
    },
    {
     "name": "stdout",
     "output_type": "stream",
     "text": [
      "/tmp\n",
      "/tmp/erario statement_12.png\n"
     ]
    },
    {
     "name": "stderr",
     "output_type": "stream",
     "text": [
      "\r",
      " 81%|████████▏ | 13/16 [00:05<00:01,  2.24it/s]"
     ]
    },
    {
     "name": "stdout",
     "output_type": "stream",
     "text": [
      "/tmp\n",
      "/tmp/erario statement_13.png\n"
     ]
    },
    {
     "name": "stderr",
     "output_type": "stream",
     "text": [
      "\r",
      " 88%|████████▊ | 14/16 [00:06<00:00,  2.24it/s]"
     ]
    },
    {
     "name": "stdout",
     "output_type": "stream",
     "text": [
      "/tmp\n",
      "/tmp/erario statement_14.png\n"
     ]
    },
    {
     "name": "stderr",
     "output_type": "stream",
     "text": [
      "\r",
      " 94%|█████████▍| 15/16 [00:06<00:00,  2.27it/s]"
     ]
    },
    {
     "name": "stdout",
     "output_type": "stream",
     "text": [
      "/tmp\n",
      "/tmp/erario statement_15.png\n"
     ]
    },
    {
     "name": "stderr",
     "output_type": "stream",
     "text": [
      "100%|██████████| 16/16 [00:07<00:00,  2.23it/s]\n"
     ]
    },
    {
     "name": "stdout",
     "output_type": "stream",
     "text": [
      "33278665\n"
     ]
    },
    {
     "data": {
      "text/plain": [
       "'my_bank_statement_png.zip'"
      ]
     },
     "execution_count": 45,
     "metadata": {},
     "output_type": "execute_result"
    }
   ],
   "source": [
    "parse(\"/Users/assansanogo/Downloads/Liberta_Leasing_5_banks/UBA_BANK/erario statement.pdf\")"
   ]
  },
  {
   "cell_type": "code",
   "execution_count": 46,
   "metadata": {},
   "outputs": [],
   "source": [
    "# TEST with STANDARD_CHARTERED_BANK"
   ]
  },
  {
   "cell_type": "code",
   "execution_count": 47,
   "metadata": {
    "scrolled": false
   },
   "outputs": [
    {
     "name": "stderr",
     "output_type": "stream",
     "text": [
      "\r",
      "  0%|          | 0/1 [00:00<?, ?it/s]"
     ]
    },
    {
     "name": "stdout",
     "output_type": "stream",
     "text": [
      "/tmp\n",
      "/tmp/Statemen of Account USD May 2021  Adekunle Lateef Ali_0.png\n"
     ]
    },
    {
     "name": "stderr",
     "output_type": "stream",
     "text": [
      "100%|██████████| 1/1 [00:00<00:00,  3.56it/s]\n",
      "UserWarning: Duplicate name: 'tmp/MR IBRAHEEM LAWAL STATEMENT_6.png' [zipfile.py:1516]\n",
      "UserWarning: Duplicate name: 'tmp/erario statement_13.png' [zipfile.py:1516]\n",
      "UserWarning: Duplicate name: 'tmp/MR IBRAHEEM LAWAL STATEMENT_21.png' [zipfile.py:1516]\n",
      "UserWarning: Duplicate name: 'tmp/MR AUSTINE OKENU BANK STATEMENT_25.png' [zipfile.py:1516]\n",
      "UserWarning: Duplicate name: 'tmp/MR AUSTINE OKENU BANK STATEMENT_19.png' [zipfile.py:1516]\n",
      "UserWarning: Duplicate name: 'tmp/MR AUSTINE OKENU BANK STATEMENT_18.png' [zipfile.py:1516]\n",
      "UserWarning: Duplicate name: 'tmp/MR AUSTINE OKENU BANK STATEMENT_24.png' [zipfile.py:1516]\n",
      "UserWarning: Duplicate name: 'tmp/MR IBRAHEEM LAWAL STATEMENT_20.png' [zipfile.py:1516]\n",
      "UserWarning: Duplicate name: 'tmp/erario statement_12.png' [zipfile.py:1516]\n",
      "UserWarning: Duplicate name: 'tmp/MR IBRAHEEM LAWAL STATEMENT_7.png' [zipfile.py:1516]\n",
      "UserWarning: Duplicate name: 'tmp/MR IBRAHEEM LAWAL STATEMENT_5.png' [zipfile.py:1516]\n",
      "UserWarning: Duplicate name: 'tmp/erario statement_10.png' [zipfile.py:1516]\n",
      "UserWarning: Duplicate name: 'tmp/MR IBRAHEEM LAWAL STATEMENT_22.png' [zipfile.py:1516]\n",
      "UserWarning: Duplicate name: 'tmp/MR AUSTINE OKENU BANK STATEMENT_26.png' [zipfile.py:1516]\n",
      "UserWarning: Duplicate name: 'tmp/MR AUSTINE OKENU BANK STATEMENT_27.png' [zipfile.py:1516]\n",
      "UserWarning: Duplicate name: 'tmp/erario statement_11.png' [zipfile.py:1516]\n",
      "UserWarning: Duplicate name: 'tmp/MR IBRAHEEM LAWAL STATEMENT_4.png' [zipfile.py:1516]\n",
      "UserWarning: Duplicate name: 'tmp/MR IBRAHEEM LAWAL STATEMENT_0.png' [zipfile.py:1516]\n",
      "UserWarning: Duplicate name: 'tmp/erario statement_15.png' [zipfile.py:1516]\n",
      "UserWarning: Duplicate name: 'tmp/MR AUSTINE OKENU BANK STATEMENT_23.png' [zipfile.py:1516]\n",
      "UserWarning: Duplicate name: 'tmp/MR AUSTINE OKENU BANK STATEMENT_22.png' [zipfile.py:1516]\n",
      "UserWarning: Duplicate name: 'tmp/erario statement_14.png' [zipfile.py:1516]\n",
      "UserWarning: Duplicate name: 'tmp/MR IBRAHEEM LAWAL STATEMENT_1.png' [zipfile.py:1516]\n",
      "UserWarning: Duplicate name: 'tmp/MR IBRAHEEM LAWAL STATEMENT_3.png' [zipfile.py:1516]\n",
      "UserWarning: Duplicate name: 'tmp/MR IBRAHEEM LAWAL STATEMENT_18.png' [zipfile.py:1516]\n",
      "UserWarning: Duplicate name: 'tmp/MR AUSTINE OKENU BANK STATEMENT_20.png' [zipfile.py:1516]\n",
      "UserWarning: Duplicate name: 'tmp/MR AUSTINE OKENU BANK STATEMENT_21.png' [zipfile.py:1516]\n",
      "UserWarning: Duplicate name: 'tmp/MR IBRAHEEM LAWAL STATEMENT_19.png' [zipfile.py:1516]\n",
      "UserWarning: Duplicate name: 'tmp/MR IBRAHEEM LAWAL STATEMENT_2.png' [zipfile.py:1516]\n",
      "UserWarning: Duplicate name: 'tmp/MR AUSTINE OKENU BANK STATEMENT_8.png' [zipfile.py:1516]\n",
      "UserWarning: Duplicate name: 'tmp/MR AUSTINE OKENU BANK STATEMENT_9.png' [zipfile.py:1516]\n",
      "UserWarning: Duplicate name: 'tmp/erario statement_9.png' [zipfile.py:1516]\n",
      "UserWarning: Duplicate name: 'tmp/erario statement_8.png' [zipfile.py:1516]\n",
      "UserWarning: Duplicate name: 'tmp/MR ADOLPHUS STATEMENT_2.png' [zipfile.py:1516]\n",
      "UserWarning: Duplicate name: 'tmp/MR ADOLPHUS STATEMENT_3.png' [zipfile.py:1516]\n",
      "UserWarning: Duplicate name: 'tmp/MR ADOLPHUS STATEMENT_1.png' [zipfile.py:1516]\n",
      "UserWarning: Duplicate name: 'tmp/Statemen of Account USD May 2021  Adekunle Lateef Ali_0.png' [zipfile.py:1516]\n",
      "UserWarning: Duplicate name: 'tmp/MR ADOLPHUS STATEMENT_0.png' [zipfile.py:1516]\n",
      "UserWarning: Duplicate name: 'tmp/MR AUSTINE OKENU BANK STATEMENT_1.png' [zipfile.py:1516]\n",
      "UserWarning: Duplicate name: 'tmp/erario statement_3.png' [zipfile.py:1516]\n",
      "UserWarning: Duplicate name: 'tmp/erario statement_2.png' [zipfile.py:1516]\n",
      "UserWarning: Duplicate name: 'tmp/MR AUSTINE OKENU BANK STATEMENT_0.png' [zipfile.py:1516]\n",
      "UserWarning: Duplicate name: 'tmp/MR AUSTINE OKENU BANK STATEMENT_2.png' [zipfile.py:1516]\n",
      "UserWarning: Duplicate name: 'tmp/erario statement_0.png' [zipfile.py:1516]\n",
      "UserWarning: Duplicate name: 'tmp/erario statement_1.png' [zipfile.py:1516]\n",
      "UserWarning: Duplicate name: 'tmp/MR AUSTINE OKENU BANK STATEMENT_3.png' [zipfile.py:1516]\n",
      "UserWarning: Duplicate name: 'tmp/erario statement_5.png' [zipfile.py:1516]\n",
      "UserWarning: Duplicate name: 'tmp/MR AUSTINE OKENU BANK STATEMENT_7.png' [zipfile.py:1516]\n"
     ]
    },
    {
     "name": "stdout",
     "output_type": "stream",
     "text": [
      "66557308\n"
     ]
    },
    {
     "name": "stderr",
     "output_type": "stream",
     "text": [
      "UserWarning: Duplicate name: 'tmp/MR AUSTINE OKENU BANK STATEMENT_6.png' [zipfile.py:1516]\n",
      "UserWarning: Duplicate name: 'tmp/erario statement_4.png' [zipfile.py:1516]\n",
      "UserWarning: Duplicate name: 'tmp/erario statement_6.png' [zipfile.py:1516]\n",
      "UserWarning: Duplicate name: 'tmp/MR AUSTINE OKENU BANK STATEMENT_4.png' [zipfile.py:1516]\n",
      "UserWarning: Duplicate name: 'tmp/MR AUSTINE OKENU BANK STATEMENT_5.png' [zipfile.py:1516]\n",
      "UserWarning: Duplicate name: 'tmp/erario statement_7.png' [zipfile.py:1516]\n",
      "UserWarning: Duplicate name: 'tmp/MR IBRAHEEM LAWAL STATEMENT_14.png' [zipfile.py:1516]\n",
      "UserWarning: Duplicate name: 'tmp/MR AUSTINE OKENU BANK STATEMENT_10.png' [zipfile.py:1516]\n",
      "UserWarning: Duplicate name: 'tmp/MR AUSTINE OKENU BANK STATEMENT_11.png' [zipfile.py:1516]\n",
      "UserWarning: Duplicate name: 'tmp/MR IBRAHEEM LAWAL STATEMENT_15.png' [zipfile.py:1516]\n",
      "UserWarning: Duplicate name: 'tmp/MR IBRAHEEM LAWAL STATEMENT_17.png' [zipfile.py:1516]\n",
      "UserWarning: Duplicate name: 'tmp/MR AUSTINE OKENU BANK STATEMENT_13.png' [zipfile.py:1516]\n",
      "UserWarning: Duplicate name: 'tmp/MR AUSTINE OKENU BANK STATEMENT_12.png' [zipfile.py:1516]\n",
      "UserWarning: Duplicate name: 'tmp/MR IBRAHEEM LAWAL STATEMENT_16.png' [zipfile.py:1516]\n",
      "UserWarning: Duplicate name: 'tmp/MR IBRAHEEM LAWAL STATEMENT_9.png' [zipfile.py:1516]\n",
      "UserWarning: Duplicate name: 'tmp/MR IBRAHEEM LAWAL STATEMENT_12.png' [zipfile.py:1516]\n",
      "UserWarning: Duplicate name: 'tmp/MR AUSTINE OKENU BANK STATEMENT_16.png' [zipfile.py:1516]\n",
      "UserWarning: Duplicate name: 'tmp/MR AUSTINE OKENU BANK STATEMENT_17.png' [zipfile.py:1516]\n",
      "UserWarning: Duplicate name: 'tmp/MR IBRAHEEM LAWAL STATEMENT_13.png' [zipfile.py:1516]\n",
      "UserWarning: Duplicate name: 'tmp/MR IBRAHEEM LAWAL STATEMENT_8.png' [zipfile.py:1516]\n",
      "UserWarning: Duplicate name: 'tmp/MR IBRAHEEM LAWAL STATEMENT_11.png' [zipfile.py:1516]\n",
      "UserWarning: Duplicate name: 'tmp/MR AUSTINE OKENU BANK STATEMENT_15.png' [zipfile.py:1516]\n",
      "UserWarning: Duplicate name: 'tmp/MR AUSTINE OKENU BANK STATEMENT_14.png' [zipfile.py:1516]\n",
      "UserWarning: Duplicate name: 'tmp/MR IBRAHEEM LAWAL STATEMENT_10.png' [zipfile.py:1516]\n"
     ]
    },
    {
     "data": {
      "text/plain": [
       "'my_bank_statement_png.zip'"
      ]
     },
     "execution_count": 47,
     "metadata": {},
     "output_type": "execute_result"
    }
   ],
   "source": [
    "parse(\"Liberta_Leasing_5_banks/STANDARD_CHARTERED_BANK/Statemen of Account USD May 2021  Adekunle Lateef Ali.pdf\")"
   ]
  },
  {
   "cell_type": "code",
   "execution_count": 48,
   "metadata": {},
   "outputs": [],
   "source": [
    "# TEST with POLARIS_BANK"
   ]
  },
  {
   "cell_type": "code",
   "execution_count": 49,
   "metadata": {},
   "outputs": [
    {
     "name": "stderr",
     "output_type": "stream",
     "text": [
      "\r",
      "  0%|          | 0/4 [00:00<?, ?it/s]"
     ]
    },
    {
     "name": "stdout",
     "output_type": "stream",
     "text": [
      "/tmp\n",
      "/tmp/MR ADOLPHUS STATEMENT_0.png\n"
     ]
    },
    {
     "name": "stderr",
     "output_type": "stream",
     "text": [
      "\r",
      " 25%|██▌       | 1/4 [00:00<00:01,  2.50it/s]"
     ]
    },
    {
     "name": "stdout",
     "output_type": "stream",
     "text": [
      "/tmp\n",
      "/tmp/MR ADOLPHUS STATEMENT_1.png\n"
     ]
    },
    {
     "name": "stderr",
     "output_type": "stream",
     "text": [
      "\r",
      " 50%|█████     | 2/4 [00:00<00:00,  2.55it/s]"
     ]
    },
    {
     "name": "stdout",
     "output_type": "stream",
     "text": [
      "/tmp\n",
      "/tmp/MR ADOLPHUS STATEMENT_2.png\n"
     ]
    },
    {
     "name": "stderr",
     "output_type": "stream",
     "text": [
      "\r",
      " 75%|███████▌  | 3/4 [00:01<00:00,  2.58it/s]"
     ]
    },
    {
     "name": "stdout",
     "output_type": "stream",
     "text": [
      "/tmp\n",
      "/tmp/MR ADOLPHUS STATEMENT_3.png\n"
     ]
    },
    {
     "name": "stderr",
     "output_type": "stream",
     "text": [
      "100%|██████████| 4/4 [00:01<00:00,  2.76it/s]\n",
      "UserWarning: Duplicate name: 'tmp/MR IBRAHEEM LAWAL STATEMENT_6.png' [zipfile.py:1516]\n",
      "UserWarning: Duplicate name: 'tmp/erario statement_13.png' [zipfile.py:1516]\n",
      "UserWarning: Duplicate name: 'tmp/MR IBRAHEEM LAWAL STATEMENT_21.png' [zipfile.py:1516]\n",
      "UserWarning: Duplicate name: 'tmp/MR AUSTINE OKENU BANK STATEMENT_25.png' [zipfile.py:1516]\n",
      "UserWarning: Duplicate name: 'tmp/MR AUSTINE OKENU BANK STATEMENT_19.png' [zipfile.py:1516]\n",
      "UserWarning: Duplicate name: 'tmp/MR AUSTINE OKENU BANK STATEMENT_18.png' [zipfile.py:1516]\n",
      "UserWarning: Duplicate name: 'tmp/MR AUSTINE OKENU BANK STATEMENT_24.png' [zipfile.py:1516]\n",
      "UserWarning: Duplicate name: 'tmp/MR IBRAHEEM LAWAL STATEMENT_20.png' [zipfile.py:1516]\n",
      "UserWarning: Duplicate name: 'tmp/erario statement_12.png' [zipfile.py:1516]\n",
      "UserWarning: Duplicate name: 'tmp/MR IBRAHEEM LAWAL STATEMENT_7.png' [zipfile.py:1516]\n",
      "UserWarning: Duplicate name: 'tmp/MR IBRAHEEM LAWAL STATEMENT_5.png' [zipfile.py:1516]\n",
      "UserWarning: Duplicate name: 'tmp/erario statement_10.png' [zipfile.py:1516]\n",
      "UserWarning: Duplicate name: 'tmp/MR IBRAHEEM LAWAL STATEMENT_22.png' [zipfile.py:1516]\n",
      "UserWarning: Duplicate name: 'tmp/MR AUSTINE OKENU BANK STATEMENT_26.png' [zipfile.py:1516]\n",
      "UserWarning: Duplicate name: 'tmp/MR AUSTINE OKENU BANK STATEMENT_27.png' [zipfile.py:1516]\n",
      "UserWarning: Duplicate name: 'tmp/erario statement_11.png' [zipfile.py:1516]\n",
      "UserWarning: Duplicate name: 'tmp/MR IBRAHEEM LAWAL STATEMENT_4.png' [zipfile.py:1516]\n",
      "UserWarning: Duplicate name: 'tmp/MR IBRAHEEM LAWAL STATEMENT_0.png' [zipfile.py:1516]\n",
      "UserWarning: Duplicate name: 'tmp/erario statement_15.png' [zipfile.py:1516]\n",
      "UserWarning: Duplicate name: 'tmp/MR AUSTINE OKENU BANK STATEMENT_23.png' [zipfile.py:1516]\n",
      "UserWarning: Duplicate name: 'tmp/MR AUSTINE OKENU BANK STATEMENT_22.png' [zipfile.py:1516]\n",
      "UserWarning: Duplicate name: 'tmp/erario statement_14.png' [zipfile.py:1516]\n",
      "UserWarning: Duplicate name: 'tmp/MR IBRAHEEM LAWAL STATEMENT_1.png' [zipfile.py:1516]\n",
      "UserWarning: Duplicate name: 'tmp/MR IBRAHEEM LAWAL STATEMENT_3.png' [zipfile.py:1516]\n",
      "UserWarning: Duplicate name: 'tmp/MR IBRAHEEM LAWAL STATEMENT_18.png' [zipfile.py:1516]\n",
      "UserWarning: Duplicate name: 'tmp/MR AUSTINE OKENU BANK STATEMENT_20.png' [zipfile.py:1516]\n",
      "UserWarning: Duplicate name: 'tmp/MR AUSTINE OKENU BANK STATEMENT_21.png' [zipfile.py:1516]\n",
      "UserWarning: Duplicate name: 'tmp/MR IBRAHEEM LAWAL STATEMENT_19.png' [zipfile.py:1516]\n",
      "UserWarning: Duplicate name: 'tmp/MR IBRAHEEM LAWAL STATEMENT_2.png' [zipfile.py:1516]\n",
      "UserWarning: Duplicate name: 'tmp/MR AUSTINE OKENU BANK STATEMENT_8.png' [zipfile.py:1516]\n",
      "UserWarning: Duplicate name: 'tmp/MR AUSTINE OKENU BANK STATEMENT_9.png' [zipfile.py:1516]\n",
      "UserWarning: Duplicate name: 'tmp/erario statement_9.png' [zipfile.py:1516]\n",
      "UserWarning: Duplicate name: 'tmp/erario statement_8.png' [zipfile.py:1516]\n",
      "UserWarning: Duplicate name: 'tmp/MR ADOLPHUS STATEMENT_2.png' [zipfile.py:1516]\n",
      "UserWarning: Duplicate name: 'tmp/MR ADOLPHUS STATEMENT_3.png' [zipfile.py:1516]\n",
      "UserWarning: Duplicate name: 'tmp/MR ADOLPHUS STATEMENT_1.png' [zipfile.py:1516]\n"
     ]
    },
    {
     "name": "stdout",
     "output_type": "stream",
     "text": [
      "99835951\n"
     ]
    },
    {
     "name": "stderr",
     "output_type": "stream",
     "text": [
      "UserWarning: Duplicate name: 'tmp/Statemen of Account USD May 2021  Adekunle Lateef Ali_0.png' [zipfile.py:1516]\n",
      "UserWarning: Duplicate name: 'tmp/MR ADOLPHUS STATEMENT_0.png' [zipfile.py:1516]\n",
      "UserWarning: Duplicate name: 'tmp/MR AUSTINE OKENU BANK STATEMENT_1.png' [zipfile.py:1516]\n",
      "UserWarning: Duplicate name: 'tmp/erario statement_3.png' [zipfile.py:1516]\n",
      "UserWarning: Duplicate name: 'tmp/erario statement_2.png' [zipfile.py:1516]\n",
      "UserWarning: Duplicate name: 'tmp/MR AUSTINE OKENU BANK STATEMENT_0.png' [zipfile.py:1516]\n",
      "UserWarning: Duplicate name: 'tmp/MR AUSTINE OKENU BANK STATEMENT_2.png' [zipfile.py:1516]\n",
      "UserWarning: Duplicate name: 'tmp/erario statement_0.png' [zipfile.py:1516]\n",
      "UserWarning: Duplicate name: 'tmp/erario statement_1.png' [zipfile.py:1516]\n",
      "UserWarning: Duplicate name: 'tmp/MR AUSTINE OKENU BANK STATEMENT_3.png' [zipfile.py:1516]\n",
      "UserWarning: Duplicate name: 'tmp/erario statement_5.png' [zipfile.py:1516]\n",
      "UserWarning: Duplicate name: 'tmp/MR AUSTINE OKENU BANK STATEMENT_7.png' [zipfile.py:1516]\n",
      "UserWarning: Duplicate name: 'tmp/MR AUSTINE OKENU BANK STATEMENT_6.png' [zipfile.py:1516]\n",
      "UserWarning: Duplicate name: 'tmp/erario statement_4.png' [zipfile.py:1516]\n",
      "UserWarning: Duplicate name: 'tmp/erario statement_6.png' [zipfile.py:1516]\n",
      "UserWarning: Duplicate name: 'tmp/MR AUSTINE OKENU BANK STATEMENT_4.png' [zipfile.py:1516]\n",
      "UserWarning: Duplicate name: 'tmp/MR AUSTINE OKENU BANK STATEMENT_5.png' [zipfile.py:1516]\n",
      "UserWarning: Duplicate name: 'tmp/erario statement_7.png' [zipfile.py:1516]\n",
      "UserWarning: Duplicate name: 'tmp/MR IBRAHEEM LAWAL STATEMENT_14.png' [zipfile.py:1516]\n",
      "UserWarning: Duplicate name: 'tmp/MR AUSTINE OKENU BANK STATEMENT_10.png' [zipfile.py:1516]\n",
      "UserWarning: Duplicate name: 'tmp/MR AUSTINE OKENU BANK STATEMENT_11.png' [zipfile.py:1516]\n",
      "UserWarning: Duplicate name: 'tmp/MR IBRAHEEM LAWAL STATEMENT_15.png' [zipfile.py:1516]\n",
      "UserWarning: Duplicate name: 'tmp/MR IBRAHEEM LAWAL STATEMENT_17.png' [zipfile.py:1516]\n",
      "UserWarning: Duplicate name: 'tmp/MR AUSTINE OKENU BANK STATEMENT_13.png' [zipfile.py:1516]\n",
      "UserWarning: Duplicate name: 'tmp/MR AUSTINE OKENU BANK STATEMENT_12.png' [zipfile.py:1516]\n",
      "UserWarning: Duplicate name: 'tmp/MR IBRAHEEM LAWAL STATEMENT_16.png' [zipfile.py:1516]\n",
      "UserWarning: Duplicate name: 'tmp/MR IBRAHEEM LAWAL STATEMENT_9.png' [zipfile.py:1516]\n",
      "UserWarning: Duplicate name: 'tmp/MR IBRAHEEM LAWAL STATEMENT_12.png' [zipfile.py:1516]\n",
      "UserWarning: Duplicate name: 'tmp/MR AUSTINE OKENU BANK STATEMENT_16.png' [zipfile.py:1516]\n",
      "UserWarning: Duplicate name: 'tmp/MR AUSTINE OKENU BANK STATEMENT_17.png' [zipfile.py:1516]\n",
      "UserWarning: Duplicate name: 'tmp/MR IBRAHEEM LAWAL STATEMENT_13.png' [zipfile.py:1516]\n",
      "UserWarning: Duplicate name: 'tmp/MR IBRAHEEM LAWAL STATEMENT_8.png' [zipfile.py:1516]\n",
      "UserWarning: Duplicate name: 'tmp/MR IBRAHEEM LAWAL STATEMENT_11.png' [zipfile.py:1516]\n",
      "UserWarning: Duplicate name: 'tmp/MR AUSTINE OKENU BANK STATEMENT_15.png' [zipfile.py:1516]\n",
      "UserWarning: Duplicate name: 'tmp/MR AUSTINE OKENU BANK STATEMENT_14.png' [zipfile.py:1516]\n",
      "UserWarning: Duplicate name: 'tmp/MR IBRAHEEM LAWAL STATEMENT_10.png' [zipfile.py:1516]\n"
     ]
    },
    {
     "data": {
      "text/plain": [
       "'my_bank_statement_png.zip'"
      ]
     },
     "execution_count": 49,
     "metadata": {},
     "output_type": "execute_result"
    }
   ],
   "source": [
    "parse(\"Liberta_Leasing_5_banks/POLARIS_BANK/MR ADOLPHUS STATEMENT.pdf\")"
   ]
  },
  {
   "cell_type": "code",
   "execution_count": 50,
   "metadata": {},
   "outputs": [],
   "source": [
    "# TEST with ACCESS_BANK"
   ]
  },
  {
   "cell_type": "code",
   "execution_count": 51,
   "metadata": {},
   "outputs": [
    {
     "name": "stderr",
     "output_type": "stream",
     "text": [
      "\r",
      "  0%|          | 0/28 [00:00<?, ?it/s]"
     ]
    },
    {
     "name": "stdout",
     "output_type": "stream",
     "text": [
      "/tmp\n",
      "/tmp/MR AUSTINE OKENU BANK STATEMENT_0.png\n"
     ]
    },
    {
     "name": "stderr",
     "output_type": "stream",
     "text": [
      "\r",
      "  4%|▎         | 1/28 [00:00<00:08,  3.31it/s]"
     ]
    },
    {
     "name": "stdout",
     "output_type": "stream",
     "text": [
      "/tmp\n",
      "/tmp/MR AUSTINE OKENU BANK STATEMENT_1.png\n"
     ]
    },
    {
     "name": "stderr",
     "output_type": "stream",
     "text": [
      "\r",
      "  7%|▋         | 2/28 [00:00<00:07,  3.34it/s]"
     ]
    },
    {
     "name": "stdout",
     "output_type": "stream",
     "text": [
      "/tmp\n",
      "/tmp/MR AUSTINE OKENU BANK STATEMENT_2.png\n"
     ]
    },
    {
     "name": "stderr",
     "output_type": "stream",
     "text": [
      "\r",
      " 11%|█         | 3/28 [00:00<00:07,  3.36it/s]"
     ]
    },
    {
     "name": "stdout",
     "output_type": "stream",
     "text": [
      "/tmp\n",
      "/tmp/MR AUSTINE OKENU BANK STATEMENT_3.png\n"
     ]
    },
    {
     "name": "stderr",
     "output_type": "stream",
     "text": [
      "\r",
      " 14%|█▍        | 4/28 [00:01<00:07,  3.26it/s]"
     ]
    },
    {
     "name": "stdout",
     "output_type": "stream",
     "text": [
      "/tmp\n",
      "/tmp/MR AUSTINE OKENU BANK STATEMENT_4.png\n"
     ]
    },
    {
     "name": "stderr",
     "output_type": "stream",
     "text": [
      "\r",
      " 18%|█▊        | 5/28 [00:01<00:07,  3.16it/s]"
     ]
    },
    {
     "name": "stdout",
     "output_type": "stream",
     "text": [
      "/tmp\n",
      "/tmp/MR AUSTINE OKENU BANK STATEMENT_5.png\n"
     ]
    },
    {
     "name": "stderr",
     "output_type": "stream",
     "text": [
      "\r",
      " 21%|██▏       | 6/28 [00:01<00:06,  3.17it/s]"
     ]
    },
    {
     "name": "stdout",
     "output_type": "stream",
     "text": [
      "/tmp\n",
      "/tmp/MR AUSTINE OKENU BANK STATEMENT_6.png\n"
     ]
    },
    {
     "name": "stderr",
     "output_type": "stream",
     "text": [
      "\r",
      " 25%|██▌       | 7/28 [00:02<00:06,  3.15it/s]"
     ]
    },
    {
     "name": "stdout",
     "output_type": "stream",
     "text": [
      "/tmp\n",
      "/tmp/MR AUSTINE OKENU BANK STATEMENT_7.png\n"
     ]
    },
    {
     "name": "stderr",
     "output_type": "stream",
     "text": [
      "\r",
      " 29%|██▊       | 8/28 [00:02<00:06,  3.18it/s]"
     ]
    },
    {
     "name": "stdout",
     "output_type": "stream",
     "text": [
      "/tmp\n",
      "/tmp/MR AUSTINE OKENU BANK STATEMENT_8.png\n"
     ]
    },
    {
     "name": "stderr",
     "output_type": "stream",
     "text": [
      "\r",
      " 32%|███▏      | 9/28 [00:02<00:05,  3.20it/s]"
     ]
    },
    {
     "name": "stdout",
     "output_type": "stream",
     "text": [
      "/tmp\n",
      "/tmp/MR AUSTINE OKENU BANK STATEMENT_9.png\n"
     ]
    },
    {
     "name": "stderr",
     "output_type": "stream",
     "text": [
      "\r",
      " 36%|███▌      | 10/28 [00:03<00:05,  3.28it/s]"
     ]
    },
    {
     "name": "stdout",
     "output_type": "stream",
     "text": [
      "/tmp\n",
      "/tmp/MR AUSTINE OKENU BANK STATEMENT_10.png\n"
     ]
    },
    {
     "name": "stderr",
     "output_type": "stream",
     "text": [
      "\r",
      " 39%|███▉      | 11/28 [00:03<00:05,  3.32it/s]"
     ]
    },
    {
     "name": "stdout",
     "output_type": "stream",
     "text": [
      "/tmp\n",
      "/tmp/MR AUSTINE OKENU BANK STATEMENT_11.png\n"
     ]
    },
    {
     "name": "stderr",
     "output_type": "stream",
     "text": [
      "\r",
      " 43%|████▎     | 12/28 [00:03<00:04,  3.33it/s]"
     ]
    },
    {
     "name": "stdout",
     "output_type": "stream",
     "text": [
      "/tmp\n",
      "/tmp/MR AUSTINE OKENU BANK STATEMENT_12.png\n"
     ]
    },
    {
     "name": "stderr",
     "output_type": "stream",
     "text": [
      "\r",
      " 46%|████▋     | 13/28 [00:04<00:04,  3.26it/s]"
     ]
    },
    {
     "name": "stdout",
     "output_type": "stream",
     "text": [
      "/tmp\n",
      "/tmp/MR AUSTINE OKENU BANK STATEMENT_13.png\n"
     ]
    },
    {
     "name": "stderr",
     "output_type": "stream",
     "text": [
      "\r",
      " 50%|█████     | 14/28 [00:04<00:04,  3.24it/s]"
     ]
    },
    {
     "name": "stdout",
     "output_type": "stream",
     "text": [
      "/tmp\n",
      "/tmp/MR AUSTINE OKENU BANK STATEMENT_14.png\n"
     ]
    },
    {
     "name": "stderr",
     "output_type": "stream",
     "text": [
      "\r",
      " 54%|█████▎    | 15/28 [00:04<00:04,  3.15it/s]"
     ]
    },
    {
     "name": "stdout",
     "output_type": "stream",
     "text": [
      "/tmp\n",
      "/tmp/MR AUSTINE OKENU BANK STATEMENT_15.png\n"
     ]
    },
    {
     "name": "stderr",
     "output_type": "stream",
     "text": [
      "\r",
      " 57%|█████▋    | 16/28 [00:04<00:03,  3.18it/s]"
     ]
    },
    {
     "name": "stdout",
     "output_type": "stream",
     "text": [
      "/tmp\n",
      "/tmp/MR AUSTINE OKENU BANK STATEMENT_16.png\n"
     ]
    },
    {
     "name": "stderr",
     "output_type": "stream",
     "text": [
      "\r",
      " 61%|██████    | 17/28 [00:05<00:03,  3.26it/s]"
     ]
    },
    {
     "name": "stdout",
     "output_type": "stream",
     "text": [
      "/tmp\n",
      "/tmp/MR AUSTINE OKENU BANK STATEMENT_17.png\n"
     ]
    },
    {
     "name": "stderr",
     "output_type": "stream",
     "text": [
      "\r",
      " 64%|██████▍   | 18/28 [00:05<00:02,  3.34it/s]"
     ]
    },
    {
     "name": "stdout",
     "output_type": "stream",
     "text": [
      "/tmp\n",
      "/tmp/MR AUSTINE OKENU BANK STATEMENT_18.png\n"
     ]
    },
    {
     "name": "stderr",
     "output_type": "stream",
     "text": [
      "\r",
      " 68%|██████▊   | 19/28 [00:05<00:02,  3.39it/s]"
     ]
    },
    {
     "name": "stdout",
     "output_type": "stream",
     "text": [
      "/tmp\n",
      "/tmp/MR AUSTINE OKENU BANK STATEMENT_19.png\n"
     ]
    },
    {
     "name": "stderr",
     "output_type": "stream",
     "text": [
      "\r",
      " 71%|███████▏  | 20/28 [00:06<00:02,  3.43it/s]"
     ]
    },
    {
     "name": "stdout",
     "output_type": "stream",
     "text": [
      "/tmp\n",
      "/tmp/MR AUSTINE OKENU BANK STATEMENT_20.png\n"
     ]
    },
    {
     "name": "stderr",
     "output_type": "stream",
     "text": [
      "\r",
      " 75%|███████▌  | 21/28 [00:06<00:02,  3.47it/s]"
     ]
    },
    {
     "name": "stdout",
     "output_type": "stream",
     "text": [
      "/tmp\n",
      "/tmp/MR AUSTINE OKENU BANK STATEMENT_21.png\n"
     ]
    },
    {
     "name": "stderr",
     "output_type": "stream",
     "text": [
      "\r",
      " 79%|███████▊  | 22/28 [00:06<00:01,  3.40it/s]"
     ]
    },
    {
     "name": "stdout",
     "output_type": "stream",
     "text": [
      "/tmp\n",
      "/tmp/MR AUSTINE OKENU BANK STATEMENT_22.png\n"
     ]
    },
    {
     "name": "stderr",
     "output_type": "stream",
     "text": [
      "\r",
      " 82%|████████▏ | 23/28 [00:06<00:01,  3.41it/s]"
     ]
    },
    {
     "name": "stdout",
     "output_type": "stream",
     "text": [
      "/tmp\n",
      "/tmp/MR AUSTINE OKENU BANK STATEMENT_23.png\n"
     ]
    },
    {
     "name": "stderr",
     "output_type": "stream",
     "text": [
      "\r",
      " 86%|████████▌ | 24/28 [00:07<00:01,  3.40it/s]"
     ]
    },
    {
     "name": "stdout",
     "output_type": "stream",
     "text": [
      "/tmp\n",
      "/tmp/MR AUSTINE OKENU BANK STATEMENT_24.png\n"
     ]
    },
    {
     "name": "stderr",
     "output_type": "stream",
     "text": [
      "\r",
      " 89%|████████▉ | 25/28 [00:07<00:00,  3.39it/s]"
     ]
    },
    {
     "name": "stdout",
     "output_type": "stream",
     "text": [
      "/tmp\n",
      "/tmp/MR AUSTINE OKENU BANK STATEMENT_25.png\n"
     ]
    },
    {
     "name": "stderr",
     "output_type": "stream",
     "text": [
      "\r",
      " 93%|█████████▎| 26/28 [00:07<00:00,  3.36it/s]"
     ]
    },
    {
     "name": "stdout",
     "output_type": "stream",
     "text": [
      "/tmp\n",
      "/tmp/MR AUSTINE OKENU BANK STATEMENT_26.png\n"
     ]
    },
    {
     "name": "stderr",
     "output_type": "stream",
     "text": [
      "\r",
      " 96%|█████████▋| 27/28 [00:08<00:00,  3.38it/s]"
     ]
    },
    {
     "name": "stdout",
     "output_type": "stream",
     "text": [
      "/tmp\n",
      "/tmp/MR AUSTINE OKENU BANK STATEMENT_27.png\n"
     ]
    },
    {
     "name": "stderr",
     "output_type": "stream",
     "text": [
      "100%|██████████| 28/28 [00:08<00:00,  3.34it/s]\n",
      "UserWarning: Duplicate name: 'tmp/MR IBRAHEEM LAWAL STATEMENT_6.png' [zipfile.py:1516]\n",
      "UserWarning: Duplicate name: 'tmp/erario statement_13.png' [zipfile.py:1516]\n",
      "UserWarning: Duplicate name: 'tmp/MR IBRAHEEM LAWAL STATEMENT_21.png' [zipfile.py:1516]\n",
      "UserWarning: Duplicate name: 'tmp/MR AUSTINE OKENU BANK STATEMENT_25.png' [zipfile.py:1516]\n",
      "UserWarning: Duplicate name: 'tmp/MR AUSTINE OKENU BANK STATEMENT_19.png' [zipfile.py:1516]\n",
      "UserWarning: Duplicate name: 'tmp/MR AUSTINE OKENU BANK STATEMENT_18.png' [zipfile.py:1516]\n",
      "UserWarning: Duplicate name: 'tmp/MR AUSTINE OKENU BANK STATEMENT_24.png' [zipfile.py:1516]\n",
      "UserWarning: Duplicate name: 'tmp/MR IBRAHEEM LAWAL STATEMENT_20.png' [zipfile.py:1516]\n",
      "UserWarning: Duplicate name: 'tmp/erario statement_12.png' [zipfile.py:1516]\n",
      "UserWarning: Duplicate name: 'tmp/MR IBRAHEEM LAWAL STATEMENT_7.png' [zipfile.py:1516]\n",
      "UserWarning: Duplicate name: 'tmp/MR IBRAHEEM LAWAL STATEMENT_5.png' [zipfile.py:1516]\n",
      "UserWarning: Duplicate name: 'tmp/erario statement_10.png' [zipfile.py:1516]\n",
      "UserWarning: Duplicate name: 'tmp/MR IBRAHEEM LAWAL STATEMENT_22.png' [zipfile.py:1516]\n",
      "UserWarning: Duplicate name: 'tmp/MR AUSTINE OKENU BANK STATEMENT_26.png' [zipfile.py:1516]\n",
      "UserWarning: Duplicate name: 'tmp/MR AUSTINE OKENU BANK STATEMENT_27.png' [zipfile.py:1516]\n",
      "UserWarning: Duplicate name: 'tmp/erario statement_11.png' [zipfile.py:1516]\n",
      "UserWarning: Duplicate name: 'tmp/MR IBRAHEEM LAWAL STATEMENT_4.png' [zipfile.py:1516]\n",
      "UserWarning: Duplicate name: 'tmp/MR IBRAHEEM LAWAL STATEMENT_0.png' [zipfile.py:1516]\n",
      "UserWarning: Duplicate name: 'tmp/erario statement_15.png' [zipfile.py:1516]\n",
      "UserWarning: Duplicate name: 'tmp/MR AUSTINE OKENU BANK STATEMENT_23.png' [zipfile.py:1516]\n",
      "UserWarning: Duplicate name: 'tmp/MR AUSTINE OKENU BANK STATEMENT_22.png' [zipfile.py:1516]\n",
      "UserWarning: Duplicate name: 'tmp/erario statement_14.png' [zipfile.py:1516]\n",
      "UserWarning: Duplicate name: 'tmp/MR IBRAHEEM LAWAL STATEMENT_1.png' [zipfile.py:1516]\n",
      "UserWarning: Duplicate name: 'tmp/MR IBRAHEEM LAWAL STATEMENT_3.png' [zipfile.py:1516]\n",
      "UserWarning: Duplicate name: 'tmp/MR IBRAHEEM LAWAL STATEMENT_18.png' [zipfile.py:1516]\n",
      "UserWarning: Duplicate name: 'tmp/MR AUSTINE OKENU BANK STATEMENT_20.png' [zipfile.py:1516]\n",
      "UserWarning: Duplicate name: 'tmp/MR AUSTINE OKENU BANK STATEMENT_21.png' [zipfile.py:1516]\n",
      "UserWarning: Duplicate name: 'tmp/MR IBRAHEEM LAWAL STATEMENT_19.png' [zipfile.py:1516]\n",
      "UserWarning: Duplicate name: 'tmp/MR IBRAHEEM LAWAL STATEMENT_2.png' [zipfile.py:1516]\n",
      "UserWarning: Duplicate name: 'tmp/MR AUSTINE OKENU BANK STATEMENT_8.png' [zipfile.py:1516]\n",
      "UserWarning: Duplicate name: 'tmp/MR AUSTINE OKENU BANK STATEMENT_9.png' [zipfile.py:1516]\n",
      "UserWarning: Duplicate name: 'tmp/erario statement_9.png' [zipfile.py:1516]\n",
      "UserWarning: Duplicate name: 'tmp/erario statement_8.png' [zipfile.py:1516]\n",
      "UserWarning: Duplicate name: 'tmp/MR ADOLPHUS STATEMENT_2.png' [zipfile.py:1516]\n",
      "UserWarning: Duplicate name: 'tmp/MR ADOLPHUS STATEMENT_3.png' [zipfile.py:1516]\n",
      "UserWarning: Duplicate name: 'tmp/MR ADOLPHUS STATEMENT_1.png' [zipfile.py:1516]\n",
      "UserWarning: Duplicate name: 'tmp/Statemen of Account USD May 2021  Adekunle Lateef Ali_0.png' [zipfile.py:1516]\n",
      "UserWarning: Duplicate name: 'tmp/MR ADOLPHUS STATEMENT_0.png' [zipfile.py:1516]\n",
      "UserWarning: Duplicate name: 'tmp/MR AUSTINE OKENU BANK STATEMENT_1.png' [zipfile.py:1516]\n",
      "UserWarning: Duplicate name: 'tmp/erario statement_3.png' [zipfile.py:1516]\n",
      "UserWarning: Duplicate name: 'tmp/erario statement_2.png' [zipfile.py:1516]\n",
      "UserWarning: Duplicate name: 'tmp/MR AUSTINE OKENU BANK STATEMENT_0.png' [zipfile.py:1516]\n",
      "UserWarning: Duplicate name: 'tmp/MR AUSTINE OKENU BANK STATEMENT_2.png' [zipfile.py:1516]\n",
      "UserWarning: Duplicate name: 'tmp/erario statement_0.png' [zipfile.py:1516]\n",
      "UserWarning: Duplicate name: 'tmp/erario statement_1.png' [zipfile.py:1516]\n",
      "UserWarning: Duplicate name: 'tmp/MR AUSTINE OKENU BANK STATEMENT_3.png' [zipfile.py:1516]\n",
      "UserWarning: Duplicate name: 'tmp/erario statement_5.png' [zipfile.py:1516]\n",
      "UserWarning: Duplicate name: 'tmp/MR AUSTINE OKENU BANK STATEMENT_7.png' [zipfile.py:1516]\n",
      "UserWarning: Duplicate name: 'tmp/MR AUSTINE OKENU BANK STATEMENT_6.png' [zipfile.py:1516]\n",
      "UserWarning: Duplicate name: 'tmp/erario statement_4.png' [zipfile.py:1516]\n",
      "UserWarning: Duplicate name: 'tmp/erario statement_6.png' [zipfile.py:1516]\n",
      "UserWarning: Duplicate name: 'tmp/MR AUSTINE OKENU BANK STATEMENT_4.png' [zipfile.py:1516]\n",
      "UserWarning: Duplicate name: 'tmp/MR AUSTINE OKENU BANK STATEMENT_5.png' [zipfile.py:1516]\n",
      "UserWarning: Duplicate name: 'tmp/erario statement_7.png' [zipfile.py:1516]\n",
      "UserWarning: Duplicate name: 'tmp/MR IBRAHEEM LAWAL STATEMENT_14.png' [zipfile.py:1516]\n",
      "UserWarning: Duplicate name: 'tmp/MR AUSTINE OKENU BANK STATEMENT_10.png' [zipfile.py:1516]\n",
      "UserWarning: Duplicate name: 'tmp/MR AUSTINE OKENU BANK STATEMENT_11.png' [zipfile.py:1516]\n",
      "UserWarning: Duplicate name: 'tmp/MR IBRAHEEM LAWAL STATEMENT_15.png' [zipfile.py:1516]\n",
      "UserWarning: Duplicate name: 'tmp/MR IBRAHEEM LAWAL STATEMENT_17.png' [zipfile.py:1516]\n",
      "UserWarning: Duplicate name: 'tmp/MR AUSTINE OKENU BANK STATEMENT_13.png' [zipfile.py:1516]\n",
      "UserWarning: Duplicate name: 'tmp/MR AUSTINE OKENU BANK STATEMENT_12.png' [zipfile.py:1516]\n",
      "UserWarning: Duplicate name: 'tmp/MR IBRAHEEM LAWAL STATEMENT_16.png' [zipfile.py:1516]\n",
      "UserWarning: Duplicate name: 'tmp/MR IBRAHEEM LAWAL STATEMENT_9.png' [zipfile.py:1516]\n",
      "UserWarning: Duplicate name: 'tmp/MR IBRAHEEM LAWAL STATEMENT_12.png' [zipfile.py:1516]\n",
      "UserWarning: Duplicate name: 'tmp/MR AUSTINE OKENU BANK STATEMENT_16.png' [zipfile.py:1516]\n",
      "UserWarning: Duplicate name: 'tmp/MR AUSTINE OKENU BANK STATEMENT_17.png' [zipfile.py:1516]\n",
      "UserWarning: Duplicate name: 'tmp/MR IBRAHEEM LAWAL STATEMENT_13.png' [zipfile.py:1516]\n"
     ]
    },
    {
     "name": "stdout",
     "output_type": "stream",
     "text": [
      "133114594\n"
     ]
    },
    {
     "name": "stderr",
     "output_type": "stream",
     "text": [
      "UserWarning: Duplicate name: 'tmp/MR IBRAHEEM LAWAL STATEMENT_8.png' [zipfile.py:1516]\n",
      "UserWarning: Duplicate name: 'tmp/MR IBRAHEEM LAWAL STATEMENT_11.png' [zipfile.py:1516]\n",
      "UserWarning: Duplicate name: 'tmp/MR AUSTINE OKENU BANK STATEMENT_15.png' [zipfile.py:1516]\n",
      "UserWarning: Duplicate name: 'tmp/MR AUSTINE OKENU BANK STATEMENT_14.png' [zipfile.py:1516]\n",
      "UserWarning: Duplicate name: 'tmp/MR IBRAHEEM LAWAL STATEMENT_10.png' [zipfile.py:1516]\n"
     ]
    },
    {
     "data": {
      "text/plain": [
       "'my_bank_statement_png.zip'"
      ]
     },
     "execution_count": 51,
     "metadata": {},
     "output_type": "execute_result"
    }
   ],
   "source": [
    "parse(\"Liberta_Leasing_5_banks/ACCESS_BANK/MR AUSTINE OKENU BANK STATEMENT.pdf\")"
   ]
  },
  {
   "cell_type": "code",
   "execution_count": 52,
   "metadata": {},
   "outputs": [],
   "source": [
    "# TEST with WEMA_BANK"
   ]
  },
  {
   "cell_type": "code",
   "execution_count": 53,
   "metadata": {},
   "outputs": [
    {
     "name": "stderr",
     "output_type": "stream",
     "text": [
      "\r",
      "  0%|          | 0/23 [00:00<?, ?it/s]"
     ]
    },
    {
     "name": "stdout",
     "output_type": "stream",
     "text": [
      "/tmp\n",
      "/tmp/MR IBRAHEEM LAWAL STATEMENT_0.png\n"
     ]
    },
    {
     "name": "stderr",
     "output_type": "stream",
     "text": [
      "\r",
      "  4%|▍         | 1/23 [00:00<00:07,  3.14it/s]"
     ]
    },
    {
     "name": "stdout",
     "output_type": "stream",
     "text": [
      "/tmp\n",
      "/tmp/MR IBRAHEEM LAWAL STATEMENT_1.png\n"
     ]
    },
    {
     "name": "stderr",
     "output_type": "stream",
     "text": [
      "\r",
      "  9%|▊         | 2/23 [00:00<00:06,  3.09it/s]"
     ]
    },
    {
     "name": "stdout",
     "output_type": "stream",
     "text": [
      "/tmp\n",
      "/tmp/MR IBRAHEEM LAWAL STATEMENT_2.png\n"
     ]
    },
    {
     "name": "stderr",
     "output_type": "stream",
     "text": [
      "\r",
      " 13%|█▎        | 3/23 [00:00<00:06,  3.06it/s]"
     ]
    },
    {
     "name": "stdout",
     "output_type": "stream",
     "text": [
      "/tmp\n",
      "/tmp/MR IBRAHEEM LAWAL STATEMENT_3.png\n"
     ]
    },
    {
     "name": "stderr",
     "output_type": "stream",
     "text": [
      "\r",
      " 17%|█▋        | 4/23 [00:01<00:06,  3.04it/s]"
     ]
    },
    {
     "name": "stdout",
     "output_type": "stream",
     "text": [
      "/tmp\n",
      "/tmp/MR IBRAHEEM LAWAL STATEMENT_4.png\n"
     ]
    },
    {
     "name": "stderr",
     "output_type": "stream",
     "text": [
      "\r",
      " 22%|██▏       | 5/23 [00:01<00:06,  2.99it/s]"
     ]
    },
    {
     "name": "stdout",
     "output_type": "stream",
     "text": [
      "/tmp\n",
      "/tmp/MR IBRAHEEM LAWAL STATEMENT_5.png\n"
     ]
    },
    {
     "name": "stderr",
     "output_type": "stream",
     "text": [
      "\r",
      " 26%|██▌       | 6/23 [00:01<00:05,  3.02it/s]"
     ]
    },
    {
     "name": "stdout",
     "output_type": "stream",
     "text": [
      "/tmp\n",
      "/tmp/MR IBRAHEEM LAWAL STATEMENT_6.png\n"
     ]
    },
    {
     "name": "stderr",
     "output_type": "stream",
     "text": [
      "\r",
      " 30%|███       | 7/23 [00:02<00:05,  3.13it/s]"
     ]
    },
    {
     "name": "stdout",
     "output_type": "stream",
     "text": [
      "/tmp\n",
      "/tmp/MR IBRAHEEM LAWAL STATEMENT_7.png\n"
     ]
    },
    {
     "name": "stderr",
     "output_type": "stream",
     "text": [
      "\r",
      " 35%|███▍      | 8/23 [00:02<00:04,  3.16it/s]"
     ]
    },
    {
     "name": "stdout",
     "output_type": "stream",
     "text": [
      "/tmp\n",
      "/tmp/MR IBRAHEEM LAWAL STATEMENT_8.png\n"
     ]
    },
    {
     "name": "stderr",
     "output_type": "stream",
     "text": [
      "\r",
      " 39%|███▉      | 9/23 [00:03<00:05,  2.65it/s]"
     ]
    },
    {
     "name": "stdout",
     "output_type": "stream",
     "text": [
      "/tmp\n",
      "/tmp/MR IBRAHEEM LAWAL STATEMENT_9.png\n"
     ]
    },
    {
     "name": "stderr",
     "output_type": "stream",
     "text": [
      "\r",
      " 43%|████▎     | 10/23 [00:03<00:04,  2.71it/s]"
     ]
    },
    {
     "name": "stdout",
     "output_type": "stream",
     "text": [
      "/tmp\n",
      "/tmp/MR IBRAHEEM LAWAL STATEMENT_10.png\n"
     ]
    },
    {
     "name": "stderr",
     "output_type": "stream",
     "text": [
      "\r",
      " 48%|████▊     | 11/23 [00:03<00:04,  2.73it/s]"
     ]
    },
    {
     "name": "stdout",
     "output_type": "stream",
     "text": [
      "/tmp\n",
      "/tmp/MR IBRAHEEM LAWAL STATEMENT_11.png\n"
     ]
    },
    {
     "name": "stderr",
     "output_type": "stream",
     "text": [
      "\r",
      " 52%|█████▏    | 12/23 [00:04<00:03,  2.77it/s]"
     ]
    },
    {
     "name": "stdout",
     "output_type": "stream",
     "text": [
      "/tmp\n",
      "/tmp/MR IBRAHEEM LAWAL STATEMENT_12.png\n"
     ]
    },
    {
     "name": "stderr",
     "output_type": "stream",
     "text": [
      "\r",
      " 57%|█████▋    | 13/23 [00:04<00:04,  2.35it/s]"
     ]
    },
    {
     "name": "stdout",
     "output_type": "stream",
     "text": [
      "/tmp\n",
      "/tmp/MR IBRAHEEM LAWAL STATEMENT_13.png\n"
     ]
    },
    {
     "name": "stderr",
     "output_type": "stream",
     "text": [
      "\r",
      " 61%|██████    | 14/23 [00:05<00:04,  2.08it/s]"
     ]
    },
    {
     "name": "stdout",
     "output_type": "stream",
     "text": [
      "/tmp\n",
      "/tmp/MR IBRAHEEM LAWAL STATEMENT_14.png\n"
     ]
    },
    {
     "name": "stderr",
     "output_type": "stream",
     "text": [
      "\r",
      " 65%|██████▌   | 15/23 [00:06<00:04,  1.72it/s]"
     ]
    },
    {
     "name": "stdout",
     "output_type": "stream",
     "text": [
      "/tmp\n",
      "/tmp/MR IBRAHEEM LAWAL STATEMENT_15.png\n"
     ]
    },
    {
     "name": "stderr",
     "output_type": "stream",
     "text": [
      "\r",
      " 70%|██████▉   | 16/23 [00:06<00:04,  1.55it/s]"
     ]
    },
    {
     "name": "stdout",
     "output_type": "stream",
     "text": [
      "/tmp\n",
      "/tmp/MR IBRAHEEM LAWAL STATEMENT_16.png\n"
     ]
    },
    {
     "name": "stderr",
     "output_type": "stream",
     "text": [
      "\r",
      " 74%|███████▍  | 17/23 [00:07<00:03,  1.68it/s]"
     ]
    },
    {
     "name": "stdout",
     "output_type": "stream",
     "text": [
      "/tmp\n",
      "/tmp/MR IBRAHEEM LAWAL STATEMENT_17.png\n"
     ]
    },
    {
     "name": "stderr",
     "output_type": "stream",
     "text": [
      "\r",
      " 78%|███████▊  | 18/23 [00:08<00:02,  1.68it/s]"
     ]
    },
    {
     "name": "stdout",
     "output_type": "stream",
     "text": [
      "/tmp\n",
      "/tmp/MR IBRAHEEM LAWAL STATEMENT_18.png\n"
     ]
    },
    {
     "name": "stderr",
     "output_type": "stream",
     "text": [
      "\r",
      " 83%|████████▎ | 19/23 [00:08<00:02,  1.72it/s]"
     ]
    },
    {
     "name": "stdout",
     "output_type": "stream",
     "text": [
      "/tmp\n",
      "/tmp/MR IBRAHEEM LAWAL STATEMENT_19.png\n"
     ]
    },
    {
     "name": "stderr",
     "output_type": "stream",
     "text": [
      "\r",
      " 87%|████████▋ | 20/23 [00:09<00:02,  1.42it/s]"
     ]
    },
    {
     "name": "stdout",
     "output_type": "stream",
     "text": [
      "/tmp\n",
      "/tmp/MR IBRAHEEM LAWAL STATEMENT_20.png\n"
     ]
    },
    {
     "name": "stderr",
     "output_type": "stream",
     "text": [
      "\r",
      " 91%|█████████▏| 21/23 [00:10<00:01,  1.36it/s]"
     ]
    },
    {
     "name": "stdout",
     "output_type": "stream",
     "text": [
      "/tmp\n",
      "/tmp/MR IBRAHEEM LAWAL STATEMENT_21.png\n"
     ]
    },
    {
     "name": "stderr",
     "output_type": "stream",
     "text": [
      "\r",
      " 96%|█████████▌| 22/23 [00:10<00:00,  1.45it/s]"
     ]
    },
    {
     "name": "stdout",
     "output_type": "stream",
     "text": [
      "/tmp\n",
      "/tmp/MR IBRAHEEM LAWAL STATEMENT_22.png\n"
     ]
    },
    {
     "name": "stderr",
     "output_type": "stream",
     "text": [
      "100%|██████████| 23/23 [00:11<00:00,  2.01it/s]\n",
      "UserWarning: Duplicate name: 'tmp/MR IBRAHEEM LAWAL STATEMENT_6.png' [zipfile.py:1516]\n",
      "UserWarning: Duplicate name: 'tmp/erario statement_13.png' [zipfile.py:1516]\n",
      "UserWarning: Duplicate name: 'tmp/MR IBRAHEEM LAWAL STATEMENT_21.png' [zipfile.py:1516]\n",
      "UserWarning: Duplicate name: 'tmp/MR AUSTINE OKENU BANK STATEMENT_25.png' [zipfile.py:1516]\n",
      "UserWarning: Duplicate name: 'tmp/MR AUSTINE OKENU BANK STATEMENT_19.png' [zipfile.py:1516]\n",
      "UserWarning: Duplicate name: 'tmp/MR AUSTINE OKENU BANK STATEMENT_18.png' [zipfile.py:1516]\n",
      "UserWarning: Duplicate name: 'tmp/MR AUSTINE OKENU BANK STATEMENT_24.png' [zipfile.py:1516]\n",
      "UserWarning: Duplicate name: 'tmp/MR IBRAHEEM LAWAL STATEMENT_20.png' [zipfile.py:1516]\n",
      "UserWarning: Duplicate name: 'tmp/erario statement_12.png' [zipfile.py:1516]\n",
      "UserWarning: Duplicate name: 'tmp/MR IBRAHEEM LAWAL STATEMENT_7.png' [zipfile.py:1516]\n",
      "UserWarning: Duplicate name: 'tmp/MR IBRAHEEM LAWAL STATEMENT_5.png' [zipfile.py:1516]\n",
      "UserWarning: Duplicate name: 'tmp/erario statement_10.png' [zipfile.py:1516]\n",
      "UserWarning: Duplicate name: 'tmp/MR IBRAHEEM LAWAL STATEMENT_22.png' [zipfile.py:1516]\n",
      "UserWarning: Duplicate name: 'tmp/MR AUSTINE OKENU BANK STATEMENT_26.png' [zipfile.py:1516]\n",
      "UserWarning: Duplicate name: 'tmp/MR AUSTINE OKENU BANK STATEMENT_27.png' [zipfile.py:1516]\n",
      "UserWarning: Duplicate name: 'tmp/erario statement_11.png' [zipfile.py:1516]\n",
      "UserWarning: Duplicate name: 'tmp/MR IBRAHEEM LAWAL STATEMENT_4.png' [zipfile.py:1516]\n",
      "UserWarning: Duplicate name: 'tmp/MR IBRAHEEM LAWAL STATEMENT_0.png' [zipfile.py:1516]\n",
      "UserWarning: Duplicate name: 'tmp/erario statement_15.png' [zipfile.py:1516]\n",
      "UserWarning: Duplicate name: 'tmp/MR AUSTINE OKENU BANK STATEMENT_23.png' [zipfile.py:1516]\n",
      "UserWarning: Duplicate name: 'tmp/MR AUSTINE OKENU BANK STATEMENT_22.png' [zipfile.py:1516]\n",
      "UserWarning: Duplicate name: 'tmp/erario statement_14.png' [zipfile.py:1516]\n",
      "UserWarning: Duplicate name: 'tmp/MR IBRAHEEM LAWAL STATEMENT_1.png' [zipfile.py:1516]\n",
      "UserWarning: Duplicate name: 'tmp/MR IBRAHEEM LAWAL STATEMENT_3.png' [zipfile.py:1516]\n",
      "UserWarning: Duplicate name: 'tmp/MR IBRAHEEM LAWAL STATEMENT_18.png' [zipfile.py:1516]\n",
      "UserWarning: Duplicate name: 'tmp/MR AUSTINE OKENU BANK STATEMENT_20.png' [zipfile.py:1516]\n",
      "UserWarning: Duplicate name: 'tmp/MR AUSTINE OKENU BANK STATEMENT_21.png' [zipfile.py:1516]\n",
      "UserWarning: Duplicate name: 'tmp/MR IBRAHEEM LAWAL STATEMENT_19.png' [zipfile.py:1516]\n",
      "UserWarning: Duplicate name: 'tmp/MR IBRAHEEM LAWAL STATEMENT_2.png' [zipfile.py:1516]\n",
      "UserWarning: Duplicate name: 'tmp/MR AUSTINE OKENU BANK STATEMENT_8.png' [zipfile.py:1516]\n",
      "UserWarning: Duplicate name: 'tmp/MR AUSTINE OKENU BANK STATEMENT_9.png' [zipfile.py:1516]\n",
      "UserWarning: Duplicate name: 'tmp/erario statement_9.png' [zipfile.py:1516]\n",
      "UserWarning: Duplicate name: 'tmp/erario statement_8.png' [zipfile.py:1516]\n",
      "UserWarning: Duplicate name: 'tmp/MR ADOLPHUS STATEMENT_2.png' [zipfile.py:1516]\n",
      "UserWarning: Duplicate name: 'tmp/MR ADOLPHUS STATEMENT_3.png' [zipfile.py:1516]\n",
      "UserWarning: Duplicate name: 'tmp/MR ADOLPHUS STATEMENT_1.png' [zipfile.py:1516]\n",
      "UserWarning: Duplicate name: 'tmp/Statemen of Account USD May 2021  Adekunle Lateef Ali_0.png' [zipfile.py:1516]\n",
      "UserWarning: Duplicate name: 'tmp/MR ADOLPHUS STATEMENT_0.png' [zipfile.py:1516]\n",
      "UserWarning: Duplicate name: 'tmp/MR AUSTINE OKENU BANK STATEMENT_1.png' [zipfile.py:1516]\n",
      "UserWarning: Duplicate name: 'tmp/erario statement_3.png' [zipfile.py:1516]\n",
      "UserWarning: Duplicate name: 'tmp/erario statement_2.png' [zipfile.py:1516]\n",
      "UserWarning: Duplicate name: 'tmp/MR AUSTINE OKENU BANK STATEMENT_0.png' [zipfile.py:1516]\n",
      "UserWarning: Duplicate name: 'tmp/MR AUSTINE OKENU BANK STATEMENT_2.png' [zipfile.py:1516]\n",
      "UserWarning: Duplicate name: 'tmp/erario statement_0.png' [zipfile.py:1516]\n",
      "UserWarning: Duplicate name: 'tmp/erario statement_1.png' [zipfile.py:1516]\n",
      "UserWarning: Duplicate name: 'tmp/MR AUSTINE OKENU BANK STATEMENT_3.png' [zipfile.py:1516]\n",
      "UserWarning: Duplicate name: 'tmp/erario statement_5.png' [zipfile.py:1516]\n",
      "UserWarning: Duplicate name: 'tmp/MR AUSTINE OKENU BANK STATEMENT_7.png' [zipfile.py:1516]\n",
      "UserWarning: Duplicate name: 'tmp/MR AUSTINE OKENU BANK STATEMENT_6.png' [zipfile.py:1516]\n",
      "UserWarning: Duplicate name: 'tmp/erario statement_4.png' [zipfile.py:1516]\n",
      "UserWarning: Duplicate name: 'tmp/erario statement_6.png' [zipfile.py:1516]\n",
      "UserWarning: Duplicate name: 'tmp/MR AUSTINE OKENU BANK STATEMENT_4.png' [zipfile.py:1516]\n",
      "UserWarning: Duplicate name: 'tmp/MR AUSTINE OKENU BANK STATEMENT_5.png' [zipfile.py:1516]\n",
      "UserWarning: Duplicate name: 'tmp/erario statement_7.png' [zipfile.py:1516]\n",
      "UserWarning: Duplicate name: 'tmp/MR IBRAHEEM LAWAL STATEMENT_14.png' [zipfile.py:1516]\n",
      "UserWarning: Duplicate name: 'tmp/MR AUSTINE OKENU BANK STATEMENT_10.png' [zipfile.py:1516]\n",
      "UserWarning: Duplicate name: 'tmp/MR AUSTINE OKENU BANK STATEMENT_11.png' [zipfile.py:1516]\n",
      "UserWarning: Duplicate name: 'tmp/MR IBRAHEEM LAWAL STATEMENT_15.png' [zipfile.py:1516]\n",
      "UserWarning: Duplicate name: 'tmp/MR IBRAHEEM LAWAL STATEMENT_17.png' [zipfile.py:1516]\n",
      "UserWarning: Duplicate name: 'tmp/MR AUSTINE OKENU BANK STATEMENT_13.png' [zipfile.py:1516]\n",
      "UserWarning: Duplicate name: 'tmp/MR AUSTINE OKENU BANK STATEMENT_12.png' [zipfile.py:1516]\n"
     ]
    },
    {
     "name": "stdout",
     "output_type": "stream",
     "text": [
      "166393237\n"
     ]
    },
    {
     "name": "stderr",
     "output_type": "stream",
     "text": [
      "UserWarning: Duplicate name: 'tmp/MR IBRAHEEM LAWAL STATEMENT_16.png' [zipfile.py:1516]\n",
      "UserWarning: Duplicate name: 'tmp/MR IBRAHEEM LAWAL STATEMENT_9.png' [zipfile.py:1516]\n",
      "UserWarning: Duplicate name: 'tmp/MR IBRAHEEM LAWAL STATEMENT_12.png' [zipfile.py:1516]\n",
      "UserWarning: Duplicate name: 'tmp/MR AUSTINE OKENU BANK STATEMENT_16.png' [zipfile.py:1516]\n",
      "UserWarning: Duplicate name: 'tmp/MR AUSTINE OKENU BANK STATEMENT_17.png' [zipfile.py:1516]\n",
      "UserWarning: Duplicate name: 'tmp/MR IBRAHEEM LAWAL STATEMENT_13.png' [zipfile.py:1516]\n",
      "UserWarning: Duplicate name: 'tmp/MR IBRAHEEM LAWAL STATEMENT_8.png' [zipfile.py:1516]\n",
      "UserWarning: Duplicate name: 'tmp/MR IBRAHEEM LAWAL STATEMENT_11.png' [zipfile.py:1516]\n",
      "UserWarning: Duplicate name: 'tmp/MR AUSTINE OKENU BANK STATEMENT_15.png' [zipfile.py:1516]\n",
      "UserWarning: Duplicate name: 'tmp/MR AUSTINE OKENU BANK STATEMENT_14.png' [zipfile.py:1516]\n",
      "UserWarning: Duplicate name: 'tmp/MR IBRAHEEM LAWAL STATEMENT_10.png' [zipfile.py:1516]\n"
     ]
    },
    {
     "data": {
      "text/plain": [
       "'my_bank_statement_png.zip'"
      ]
     },
     "execution_count": 53,
     "metadata": {},
     "output_type": "execute_result"
    }
   ],
   "source": [
    "parse(\"Liberta_Leasing_5_banks/WEMA_BANK/MR IBRAHEEM LAWAL STATEMENT.pdf\")"
   ]
  },
  {
   "cell_type": "code",
   "execution_count": null,
   "metadata": {},
   "outputs": [],
   "source": []
  }
 ],
 "metadata": {
  "kernelspec": {
   "display_name": "Python 3",
   "language": "python",
   "name": "python3"
  },
  "language_info": {
   "codemirror_mode": {
    "name": "ipython",
    "version": 3
   },
   "file_extension": ".py",
   "mimetype": "text/x-python",
   "name": "python",
   "nbconvert_exporter": "python",
   "pygments_lexer": "ipython3",
   "version": "3.8.3"
  }
 },
 "nbformat": 4,
 "nbformat_minor": 4
}
