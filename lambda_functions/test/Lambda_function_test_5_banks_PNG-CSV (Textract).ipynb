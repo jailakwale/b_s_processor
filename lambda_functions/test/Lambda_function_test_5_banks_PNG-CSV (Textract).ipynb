{
 "cells": [
  {
   "cell_type": "code",
   "execution_count": 27,
   "metadata": {},
   "outputs": [],
   "source": [
    "import os\n",
    "import json\n",
    "import shutil\n",
    "\n",
    "import boto3\n",
    "import io\n",
    "from io import BytesIO\n",
    "import sys\n",
    "from pprint import pprint\n",
    "import glob2\n",
    "import requests\n",
    "import base64\n",
    "from zipfile import ZipFile\n",
    "from tqdm import tqdm\n",
    "\n",
    "\n",
    "def download_url(url):\n",
    "    '''\n",
    "    utility funcction which downloads pdf to local environment\n",
    "    '''\n",
    "    # data is going to be read as stream\n",
    "    chunk_size=2000\n",
    "    r = requests.get(url, stream=True)\n",
    "    \n",
    "    # the pdf filename is extracted from the presigned url\n",
    "    file_name = [el for el in url.split(\"/\") if (\".zip\" in el)][0]\n",
    "    os.makedirs('/tmp', exist_ok=True)\n",
    "    \n",
    "    # open a file to dump the stream in\n",
    "    print(r)\n",
    "    print(file_name)\n",
    "    \n",
    "    with open(f'/tmp/{file_name}', 'wb') as fd:\n",
    "        for chunk in r.iter_content(chunk_size):\n",
    "            fd.write(chunk)\n",
    "    print(os.stat(f'/tmp/{file_name}').st_size)\n",
    "    \n",
    "    with ZipFile(f'/tmp/{file_name}', 'r') as zip:\n",
    "        # extracting all the files\n",
    "        print(zip.namelist())\n",
    "        os.makedirs(f'/tmp/all_png/{file_name}', exist_ok=True)\n",
    "        os.chdir('/tmp/all_png')\n",
    "\n",
    "        for file_zip in zip.namelist():\n",
    "            zip.extract(file_zip, '/tmp/all_png')\n",
    "            print('Extracting all the files now...')\n",
    "        print(\"double nested :\\n\")\n",
    "        print(glob2.glob('/tmp/all_png/*/*.png'))\n",
    "        \n",
    "    return '/tmp/all_png'\n",
    "\n",
    "def get_rows_columns_map(table_result, blocks_map):\n",
    "    rows = {}\n",
    "    for relationship in table_result['Relationships']:\n",
    "        if relationship['Type'] == 'CHILD':\n",
    "            for child_id in relationship['Ids']:\n",
    "                cell = blocks_map[child_id]\n",
    "                if cell['BlockType'] == 'CELL':\n",
    "                    row_index = cell['RowIndex']\n",
    "                    col_index = cell['ColumnIndex']\n",
    "                    if row_index not in rows:\n",
    "                        # create new row\n",
    "                        rows[row_index] = {}\n",
    "                        \n",
    "                    # get the text value\n",
    "                    rows[row_index][col_index] = get_text(cell, blocks_map)\n",
    "    return rows\n",
    "\n",
    "\n",
    "def get_text(result, blocks_map):\n",
    "    text = ''\n",
    "    if 'Relationships' in result:\n",
    "        for relationship in result['Relationships']:\n",
    "            if relationship['Type'] == 'CHILD':\n",
    "                for child_id in relationship['Ids']:\n",
    "                    word = blocks_map[child_id]\n",
    "                    if word['BlockType'] == 'WORD':\n",
    "                        text += word['Text'] + ' '\n",
    "                    if word['BlockType'] == 'SELECTION_ELEMENT':\n",
    "                        if word['SelectionStatus'] =='SELECTED':\n",
    "                            text +=  'X '    \n",
    "    return text\n",
    "\n",
    "\n",
    "def get_table_csv_results(file_name):\n",
    " \n",
    "    with open(file_name, 'rb') as file:\n",
    "        img_test = file.read()\n",
    "        bytes_test = bytearray(img_test)\n",
    "        print('Image loaded', file_name)\n",
    "\n",
    "    # process using image bytes\n",
    "    # get the results\n",
    "    client = boto3.client('textract')\n",
    "\n",
    "    response = client.analyze_document(Document={'Bytes': bytes_test}, FeatureTypes=['TABLES'])\n",
    "\n",
    "    # Get the text blocks\n",
    "    blocks=response['Blocks']\n",
    "    #pprint(blocks)\n",
    "\n",
    "    blocks_map = {}\n",
    "    table_blocks = []\n",
    "    for block in blocks:\n",
    "        blocks_map[block['Id']] = block\n",
    "        if block['BlockType'] == \"TABLE\":\n",
    "            table_blocks.append(block)\n",
    "\n",
    "    if len(table_blocks) <= 0:\n",
    "        return \"<b> NO Table FOUND </b>\"\n",
    "\n",
    "    csv_list = []\n",
    "    for index, table in enumerate(table_blocks):\n",
    "        csv_list.append(generate_table_csv(table, blocks_map, index +1))\n",
    "    return csv_list\n",
    "\n",
    "def generate_table_csv(table_result, blocks_map, table_index):\n",
    "    rows = get_rows_columns_map(table_result, blocks_map)\n",
    "\n",
    "    table_id = 'Table_' + str(table_index)\n",
    "    \n",
    "    # get cells.\n",
    "    csv = ''\n",
    "\n",
    "    for row_index, cols in rows.items():\n",
    "        \n",
    "        for col_index, text in cols.items():\n",
    "            csv += '{}'.format(text) + \",\"\n",
    "        csv += '\\n'\n",
    "    return csv\n",
    "\n",
    "def png_2_csv(file_name):\n",
    "    table_csv_list = get_table_csv_results(file_name)\n",
    "\n",
    "    # replace content\n",
    "    for idx, table_csv in enumerate(table_csv_list):\n",
    "        print(idx)\n",
    "        new_file_name = file_name.replace(\".png\", f\"sub_{str(idx)}.csv\")\n",
    "        with open(new_file_name, \"wt\") as fout:\n",
    "            fout.write(table_csv)\n",
    "    \n",
    "    path_f_name = file_name.split(\"/\")[-1].replace(\".png\",\"\").split(\"_\")[0]\n",
    "    #all_csv = glob2.glob(f\"{path_f_name}/*.csv\")\n",
    "    \n",
    "    #for csv_path in all_csv:\n",
    "    print(path_f_name)\n",
    "    \n",
    "    with ZipFile(f'{path_f_name}.zip','a') as zip:\n",
    "        # writing each file one by one for file in png paths:\n",
    "        zip.write(new_file_name, arcname=new_file_name.split(\"/\")[-1])\n",
    "    \n",
    "    #s3_client = boto3.client('s3')\n",
    "        \n",
    "    #try:\n",
    "    #    clean_folder = file_name.split(\"/\")[-1].replace(\".\",\"_\")\n",
    "    #    end_name = new_file_name.split(\"/\")[-1]\n",
    "    #\n",
    "    #    object_name = f\"job_{clean_folder}/{end_name}\"\n",
    "    #    bucket = \"liberta-leasing-ml\"\n",
    "    #    response = s3_client.upload_file(new_file_name, bucket, object_name)\n",
    "    #    result = object_name\n",
    "    #\n",
    "    #except Exception as e:\n",
    "    #    response = None\n",
    "    #    result = \"failed transaction\"\n",
    "    #    print(str(e))\n",
    "    #    pass\n",
    "    #return result\n",
    "    return path_f_name\n",
    "            \n",
    "def parse(f_path):\n",
    "    all_files = glob2.glob(os.path.join(f_path, \"*.png\"))\n",
    "    paths = []\n",
    "    for file_name in tqdm(all_files):\n",
    "        paths.append(png_2_csv(file_name))\n",
    "   \n",
    "    s3_client = boto3.client('s3')\n",
    "        \n",
    "    try:\n",
    "    #    clean_folder = file_name.split(\"/\")[-1].replace(\".\",\"_\")\n",
    "    #    end_name = new_file_name.split(\"/\")[-1]\n",
    "    #\n",
    "    #    object_name = f\"job_{clean_folder}/{end_name}\"\n",
    "        bucket = \"liberta-leasing-ml\"\n",
    "        response = s3_client.upload_file(paths[0], bucket, paths[0])\n",
    "        result = paths[0]\n",
    "    #\n",
    "    except Exception as e:\n",
    "        response = None\n",
    "        result = \"failed transaction\"\n",
    "        print(str(e))\n",
    "        pass\n",
    "    return result\n",
    "\n",
    "\n"
   ]
  },
  {
   "cell_type": "code",
   "execution_count": 28,
   "metadata": {},
   "outputs": [
    {
     "name": "stderr",
     "output_type": "stream",
     "text": [
      "\n",
      "\n",
      "\n",
      "\n",
      "\n",
      "  0%|          | 0/16 [00:00<?, ?it/s]\u001b[A\u001b[A\u001b[A\u001b[A\u001b[A"
     ]
    },
    {
     "name": "stdout",
     "output_type": "stream",
     "text": [
      "Image loaded /Users/assansanogo/Downloads/tmp/erario/erario statement_15._cropped.png\n"
     ]
    },
    {
     "name": "stderr",
     "output_type": "stream",
     "text": [
      "\n",
      "\n",
      "\n",
      "\n",
      "\n",
      "  6%|▋         | 1/16 [00:07<01:58,  7.92s/it]\u001b[A\u001b[A\u001b[A\u001b[A\u001b[A"
     ]
    },
    {
     "name": "stdout",
     "output_type": "stream",
     "text": [
      "0\n",
      "erario statement\n",
      "Image loaded /Users/assansanogo/Downloads/tmp/erario/erario statement_12._cropped.png\n"
     ]
    },
    {
     "name": "stderr",
     "output_type": "stream",
     "text": [
      "\n",
      "\n",
      "\n",
      "\n",
      "\n",
      " 12%|█▎        | 2/16 [00:15<01:47,  7.69s/it]\u001b[A\u001b[A\u001b[A\u001b[A\u001b[A"
     ]
    },
    {
     "name": "stdout",
     "output_type": "stream",
     "text": [
      "0\n",
      "erario statement\n",
      "Image loaded /Users/assansanogo/Downloads/tmp/erario/erario statement_0._cropped.png\n"
     ]
    },
    {
     "name": "stderr",
     "output_type": "stream",
     "text": [
      "\n",
      "\n",
      "\n",
      "\n",
      "\n",
      " 19%|█▉        | 3/16 [00:24<01:47,  8.29s/it]\u001b[A\u001b[A\u001b[A\u001b[A\u001b[A"
     ]
    },
    {
     "name": "stdout",
     "output_type": "stream",
     "text": [
      "0\n",
      "erario statement\n",
      "Image loaded /Users/assansanogo/Downloads/tmp/erario/erario statement_7._cropped.png\n"
     ]
    },
    {
     "name": "stderr",
     "output_type": "stream",
     "text": [
      "\n",
      "\n",
      "\n",
      "\n",
      "\n",
      " 25%|██▌       | 4/16 [00:34<01:44,  8.69s/it]\u001b[A\u001b[A\u001b[A\u001b[A\u001b[A"
     ]
    },
    {
     "name": "stdout",
     "output_type": "stream",
     "text": [
      "0\n",
      "erario statement\n",
      "Image loaded /Users/assansanogo/Downloads/tmp/erario/erario statement_6._cropped.png\n"
     ]
    },
    {
     "name": "stderr",
     "output_type": "stream",
     "text": [
      "\n",
      "\n",
      "\n",
      "\n",
      "\n",
      " 31%|███▏      | 5/16 [00:42<01:34,  8.58s/it]\u001b[A\u001b[A\u001b[A\u001b[A\u001b[A"
     ]
    },
    {
     "name": "stdout",
     "output_type": "stream",
     "text": [
      "0\n",
      "erario statement\n",
      "Image loaded /Users/assansanogo/Downloads/tmp/erario/erario statement_1._cropped.png\n"
     ]
    },
    {
     "name": "stderr",
     "output_type": "stream",
     "text": [
      "\n",
      "\n",
      "\n",
      "\n",
      "\n",
      " 38%|███▊      | 6/16 [00:45<01:09,  6.91s/it]\u001b[A\u001b[A\u001b[A\u001b[A\u001b[A"
     ]
    },
    {
     "name": "stdout",
     "output_type": "stream",
     "text": [
      "0\n",
      "erario statement\n",
      "Image loaded /Users/assansanogo/Downloads/tmp/erario/erario statement_13._cropped.png\n"
     ]
    },
    {
     "name": "stderr",
     "output_type": "stream",
     "text": [
      "\n",
      "\n",
      "\n",
      "\n",
      "\n",
      " 44%|████▍     | 7/16 [00:50<00:57,  6.41s/it]\u001b[A\u001b[A\u001b[A\u001b[A\u001b[A"
     ]
    },
    {
     "name": "stdout",
     "output_type": "stream",
     "text": [
      "0\n",
      "erario statement\n",
      "Image loaded /Users/assansanogo/Downloads/tmp/erario/erario statement_14._cropped.png\n"
     ]
    },
    {
     "name": "stderr",
     "output_type": "stream",
     "text": [
      "\n",
      "\n",
      "\n",
      "\n",
      "\n",
      " 50%|█████     | 8/16 [00:54<00:45,  5.65s/it]\u001b[A\u001b[A\u001b[A\u001b[A\u001b[A"
     ]
    },
    {
     "name": "stdout",
     "output_type": "stream",
     "text": [
      "0\n",
      "erario statement\n",
      "Image loaded /Users/assansanogo/Downloads/tmp/erario/erario statement_3._cropped.png\n"
     ]
    },
    {
     "name": "stderr",
     "output_type": "stream",
     "text": [
      "\n",
      "\n",
      "\n",
      "\n",
      "\n",
      " 56%|█████▋    | 9/16 [01:04<00:48,  6.97s/it]\u001b[A\u001b[A\u001b[A\u001b[A\u001b[A"
     ]
    },
    {
     "name": "stdout",
     "output_type": "stream",
     "text": [
      "0\n",
      "erario statement\n",
      "Image loaded /Users/assansanogo/Downloads/tmp/erario/erario statement_4._cropped.png\n"
     ]
    },
    {
     "name": "stderr",
     "output_type": "stream",
     "text": [
      "\n",
      "\n",
      "\n",
      "\n",
      "\n",
      " 62%|██████▎   | 10/16 [01:15<00:48,  8.06s/it]\u001b[A\u001b[A\u001b[A\u001b[A\u001b[A"
     ]
    },
    {
     "name": "stdout",
     "output_type": "stream",
     "text": [
      "0\n",
      "erario statement\n",
      "Image loaded /Users/assansanogo/Downloads/tmp/erario/erario statement_11._cropped.png\n"
     ]
    },
    {
     "name": "stderr",
     "output_type": "stream",
     "text": [
      "\n",
      "\n",
      "\n",
      "\n",
      "\n",
      " 69%|██████▉   | 11/16 [01:29<00:49,  9.88s/it]\u001b[A\u001b[A\u001b[A\u001b[A\u001b[A"
     ]
    },
    {
     "name": "stdout",
     "output_type": "stream",
     "text": [
      "0\n",
      "erario statement\n",
      "Image loaded /Users/assansanogo/Downloads/tmp/erario/erario statement_10._cropped.png\n"
     ]
    },
    {
     "name": "stderr",
     "output_type": "stream",
     "text": [
      "\n",
      "\n",
      "\n",
      "\n",
      "\n",
      " 75%|███████▌  | 12/16 [01:41<00:41, 10.35s/it]\u001b[A\u001b[A\u001b[A\u001b[A\u001b[A"
     ]
    },
    {
     "name": "stdout",
     "output_type": "stream",
     "text": [
      "0\n",
      "erario statement\n",
      "Image loaded /Users/assansanogo/Downloads/tmp/erario/erario statement_5._cropped.png\n",
      "0\n"
     ]
    },
    {
     "name": "stderr",
     "output_type": "stream",
     "text": [
      "\n",
      "\n",
      "\n",
      "\n",
      "\n",
      " 81%|████████▏ | 13/16 [01:51<00:31, 10.36s/it]\u001b[A\u001b[A\u001b[A\u001b[A\u001b[A"
     ]
    },
    {
     "name": "stdout",
     "output_type": "stream",
     "text": [
      "erario statement\n",
      "Image loaded /Users/assansanogo/Downloads/tmp/erario/erario statement_2._cropped.png\n"
     ]
    },
    {
     "name": "stderr",
     "output_type": "stream",
     "text": [
      "\n",
      "\n",
      "\n",
      "\n",
      "\n",
      " 88%|████████▊ | 14/16 [02:04<00:22, 11.02s/it]\u001b[A\u001b[A\u001b[A\u001b[A\u001b[A"
     ]
    },
    {
     "name": "stdout",
     "output_type": "stream",
     "text": [
      "0\n",
      "erario statement\n",
      "Image loaded /Users/assansanogo/Downloads/tmp/erario/erario statement_8._cropped.png\n"
     ]
    },
    {
     "name": "stderr",
     "output_type": "stream",
     "text": [
      "\n",
      "\n",
      "\n",
      "\n",
      "\n",
      " 94%|█████████▍| 15/16 [02:14<00:10, 10.94s/it]\u001b[A\u001b[A\u001b[A\u001b[A\u001b[A"
     ]
    },
    {
     "name": "stdout",
     "output_type": "stream",
     "text": [
      "0\n",
      "erario statement\n",
      "Image loaded /Users/assansanogo/Downloads/tmp/erario/erario statement_9._cropped.png\n"
     ]
    },
    {
     "name": "stderr",
     "output_type": "stream",
     "text": [
      "\n",
      "\n",
      "\n",
      "\n",
      "\n",
      "100%|██████████| 16/16 [02:24<00:00,  9.06s/it]\u001b[A\u001b[A\u001b[A\u001b[A\u001b[A"
     ]
    },
    {
     "name": "stdout",
     "output_type": "stream",
     "text": [
      "0\n",
      "erario statement\n",
      "[Errno 2] No such file or directory: 'erario statement'\n"
     ]
    },
    {
     "name": "stderr",
     "output_type": "stream",
     "text": [
      "\n"
     ]
    },
    {
     "data": {
      "text/plain": [
       "'failed transaction'"
      ]
     },
     "execution_count": 28,
     "metadata": {},
     "output_type": "execute_result"
    }
   ],
   "source": [
    "f_path = \"/Users/assansanogo/Downloads/tmp/erario\"\n",
    "parse(f_path)"
   ]
  },
  {
   "cell_type": "code",
   "execution_count": null,
   "metadata": {},
   "outputs": [],
   "source": []
  }
 ],
 "metadata": {
  "kernelspec": {
   "display_name": "Python 3",
   "language": "python",
   "name": "python3"
  },
  "language_info": {
   "codemirror_mode": {
    "name": "ipython",
    "version": 3
   },
   "file_extension": ".py",
   "mimetype": "text/x-python",
   "name": "python",
   "nbconvert_exporter": "python",
   "pygments_lexer": "ipython3",
   "version": "3.8.3"
  }
 },
 "nbformat": 4,
 "nbformat_minor": 4
}
